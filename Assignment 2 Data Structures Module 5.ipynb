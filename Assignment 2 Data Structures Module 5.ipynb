{
 "cells": [
  {
   "cell_type": "markdown",
   "id": "95265445-091c-4dce-a6f0-7bdfea9b524d",
   "metadata": {},
   "source": [
    "### Assignment 2 Data Structures Module 5 ###"
   ]
  },
  {
   "cell_type": "raw",
   "id": "648d491f-2954-492d-a89c-a7a5fe749ef6",
   "metadata": {},
   "source": [
    "#Q1 : Discuss string slicing and provide examples.\n",
    "\n",
    "#Answer :\n",
    "'''\n",
    "String Slicing concept is used to extract a particular/specific substring of a string.\n",
    "Example : Let the string be s=\"Hello-World-Good-Morning\"\n",
    "Now the indexing of a string starts from 0 from left & . i.e. H will be at 0th index, e will be at 1st index and so on.\n",
    "Now to get a particular character of a string of ith index use s[i].\n",
    "To print a particular substring with starting position as ith index & ending position as jth index use s[i:(j+1)]\n",
    "By default the step size will be one when you use s[i,j] to extract a substring i.e. each character from ith position to (j-1)th position\n",
    "will printed.\n",
    "To print a subtring with stepsize of n use s[i:(j+1):n]. This will print the characters from ith indexing position to jth indexig position \n",
    "with n difference in between each characters.\n",
    "\n",
    "For reverse slicing, if you want to reverse the string use s[::-1]. This will print all the characters in reverse way.\n",
    "Note: Stepsize with positive numbers prints the substring from left to right whereas stepsize with negative numbers prints the substring \n",
    "from right to left)\n",
    "\n",
    "In short s[a:b:n] will give you the substring with starting position as a index, ending position as (b-1) index & with stepsize n \n",
    "\n",
    "Few examples are given as follows :\n",
    "'''\n"
   ]
  },
  {
   "cell_type": "code",
   "execution_count": 17,
   "id": "366760f3-2fa7-4c5f-877d-59d751cc6714",
   "metadata": {},
   "outputs": [
    {
     "name": "stdout",
     "output_type": "stream",
     "text": [
      "-\n",
      "Hello-\n",
      "llo-Everyone-Good-Morning\n",
      "HloEeyn-odMrig\n",
      "gninroM-dooG-enoyrevE-olleH\n",
      "girMdo-nyeEolH\n",
      "gnMo-oe\n"
     ]
    }
   ],
   "source": [
    "# examples of slicing of string\n",
    "\n",
    "s=\"Hello-Everyone-Good-Morning\"\n",
    "print(s[5])    # to get the character at 5th index\n",
    "print(s[0:6])  # to get the substring starting from 0th index position to 5th index position\n",
    "print(s[2:])   #to get the substring starting from 2nd index position till end\n",
    "print(s[::2])  # to get the substring starting from 0th index position till end with stepsize 2\n",
    "print(s[::-1]) # to get the substring in reverse way\n",
    "print(s[::-2]) # to get the substring in reverse way with stepsize 2\n",
    "print(s[-1:-20:-3])  # to get the substring in reverse with stepsize 2 from -20th index position to -1st index position"
   ]
  },
  {
   "cell_type": "code",
   "execution_count": null,
   "id": "f3c3dd11-d4cc-47f2-8daa-b0787bc88e4d",
   "metadata": {},
   "outputs": [],
   "source": [
    "\n",
    "\n"
   ]
  },
  {
   "cell_type": "raw",
   "id": "8d514b5a-f5fb-4d2e-840e-9aa95ff04b1b",
   "metadata": {},
   "source": [
    "#Q2 : Exlain the key features of lists in python.\n",
    "\n",
    "#Answer:\n",
    "\n",
    "'''\n",
    "Lists are collection of ordered items. Users can access elements through index\n",
    "A List can hold multiple datatypes elements. i.e. it is heterogenous.\n",
    "Lists are mutable i.e. we can change any element of list using index position also we can add/delete element from the list.\n",
    "\n",
    "Lists are written in \"[\" \"]\" brackets.\n",
    "E.g. of a list is written in the below box.\n",
    "'''"
   ]
  },
  {
   "cell_type": "code",
   "execution_count": 20,
   "id": "e1cdd300-0b37-486e-842e-19cf028209a7",
   "metadata": {},
   "outputs": [
    {
     "name": "stdout",
     "output_type": "stream",
     "text": [
      "['ABC', 'XYZ', 1, 2.3, (4+5j), True]\n",
      "<class 'list'>\n"
     ]
    }
   ],
   "source": [
    "#example of a list \n",
    "\n",
    "my_list=[\"ABC\",\"XYZ\",1,2.3,4+5j,True]      #list contains elements with multiple datatypes\n",
    "print(my_list)                            \n",
    "print(type(my_list))                       # to check the type of list"
   ]
  },
  {
   "cell_type": "code",
   "execution_count": null,
   "id": "8373b8ca-2e37-4904-8f60-25425d34adcd",
   "metadata": {},
   "outputs": [],
   "source": [
    "\n",
    "\n",
    "\n"
   ]
  },
  {
   "cell_type": "raw",
   "id": "c5b7e08d-b469-41a7-8b24-5a1eb73bfd70",
   "metadata": {},
   "source": [
    "#Q3 : Describe how to access,modify, and delete elements in a list with examples.\n",
    "\n",
    "# Answer\n",
    "\n",
    "'''\n",
    "Accessing elements of list is similar to as accessing characters of a string.\n",
    "Indexing in the list starts from 0. \n",
    "i.e. 0 for the first element, 1 for the second element, 2 for the third element & so on.\n",
    "Indexing from the right side start from -1. i.e. the last element will have -1 index.\n",
    "Now to access the ith index position element use my_list[i] where my_list is a list which can hold multiple datatypes elements.\n",
    "\n",
    "To modify the existing element present in the ith indexing position use my_list[i]= new value through which my_list[i] will replace the element\n",
    "present at ith indexing position with new value.\n",
    "To insert a new element at ith position use my_list[i,value].\n",
    "To add a new element at the end of the list use my_list.append(new value). \n",
    "To extend the existing list with another list use my_list.extend(Another List Name).\n",
    "To create a new list with extension of another list use my_list + another list. This will extend the list & it will create another list without\n",
    "changing any elements in the existing list.\n",
    "To repeat the elements in the list use my_list * number of times the elements wants to repeat e.g. my_list*2.\n",
    "To sort a list use sorted(my_list).\n",
    "To remove a particular element from the list say \"a\" use my_list.remove(\"a\").\n",
    "To remove the last element from the list use my_list.pop()\n",
    "TO clear all elements from a list use my_list.clear()\n",
    "To remove a element using indexing position use my_list.pop(i). This will remove the ith indexing position element\n",
    "\n",
    "Examples of all the above scenarios are mentioned in the below box\n",
    "\n",
    "\n",
    "'''"
   ]
  },
  {
   "cell_type": "code",
   "execution_count": 24,
   "id": "b774e12e-5ffd-4d42-b079-f96007491ebd",
   "metadata": {},
   "outputs": [
    {
     "name": "stdout",
     "output_type": "stream",
     "text": [
      "XYZ\n",
      "['ABC', 'PQR', 1, 2.3, (4+5j), True]\n",
      "['ABC', 'New Element', 'PQR', 1, 2.3, (4+5j), True]\n",
      "['ABC', 'New Element', 'PQR', 1, 2.3, (4+5j), True, 'New last position element']\n",
      "['ABC', 'New Element', 'PQR', 1, 2.3, (4+5j), True, 'New last position element', 88, 91, 79]\n",
      "['ABC', 'New Element', 'PQR', 1, 2.3, (4+5j), True, 'New last position element']\n",
      "['ABC', 'New Element', 'PQR', 1, 2.3, (4+5j), True, 'New last position element', 88, 91, 79]\n",
      "[88, 91, 79, 88, 91, 79]\n",
      "[79, 88, 91]\n",
      "[88, 91]\n",
      "New Element\n",
      "[]\n"
     ]
    }
   ],
   "source": [
    "my_list=[\"ABC\",\"XYZ\",1,2.3,4+5j,True]  #contains elements of all datatypes\n",
    "\n",
    "print(my_list[1])      # accessing element\n",
    "my_list[1]=\"PQR\"       #changing the element\n",
    "print(my_list)      \n",
    "my_list.insert(1,\"New Element\")   #inserting New Element\n",
    "print(my_list)\n",
    "my_list.append(\"New last position element\")     #appending the list\n",
    "print(my_list)\n",
    "List2=[88,91,79]\n",
    "my_list.extend(List2)\n",
    "print(my_list)\n",
    "my_list.remove(79)   #removing an element\n",
    "my_list.remove(88)\n",
    "my_list.remove(91)\n",
    "print(my_list)\n",
    "\n",
    "print(my_list + List2)  # extending list through + operator which doesn't change the existing list\n",
    "print(List2*2)          #repeating items in the list\n",
    "print(sorted(List2))    #sorting of list\n",
    "List2.pop()             #removing last element of List2\n",
    "print(List2) \n",
    "print(my_list.pop(1))    #removing the element at index 1 using pop\n",
    "my_list.clear()         #clearing all elements\n",
    "print(my_list)\n",
    "\n"
   ]
  },
  {
   "cell_type": "code",
   "execution_count": null,
   "id": "4e85692a-54d5-4f82-bd01-c3532e47b62b",
   "metadata": {},
   "outputs": [],
   "source": [
    "\n",
    "\n",
    "\n",
    "\n",
    "\n",
    "\n"
   ]
  },
  {
   "cell_type": "raw",
   "id": "01fdea5a-791a-4a60-8262-011fb8f1d0f8",
   "metadata": {},
   "source": [
    "# Q4 Compare and contrast tuples & lists with example\n",
    "\n",
    "#Answer :\n",
    "\n",
    "'''\n",
    "The main difference between a tuple & list is thte difference between mutabality.\n",
    "Lists are mutable while tuples are immutable which implies list can modified while tuples can't be modified.\n",
    "Lists are written in \"[  ]\" closed brackets while tuples are written in \"(   )\" parenthesis.\n",
    "Both Lists & tuples can contain elements of multiple datatypes.\n",
    "However, Tuples don't supports functions like insert(),remove(),append(),extend(), etc. i.e. Tuples have limitation related to functions.\n",
    "Indexing concept is applicable for both lists & tuples & accessing elements of strings & tuples are almost in same way.\n",
    "\n",
    "Examples of all the above cases are as follows :\n",
    "'''\n",
    "\n"
   ]
  },
  {
   "cell_type": "code",
   "execution_count": 40,
   "id": "9a4bfa32-9c4b-4401-8f31-14aaee9ef5d2",
   "metadata": {},
   "outputs": [
    {
     "name": "stdout",
     "output_type": "stream",
     "text": [
      "<class 'list'>\n",
      "<class 'tuple'>\n",
      "3\n",
      "2\n",
      "[3, 5]\n",
      "(3, 5)\n",
      "[1, 2, 3, 4, 5, 6, 7, 8, 9]\n",
      "[1, 2, 3, 4, 5, 6, 7, 8]\n",
      "[1, 2, 3, 4, 5, 6, 7]\n",
      "[1, 2, 3, 4, 5, 6, 7, 7, 8, 9]\n",
      "(1, 2, 3, 4, 5, 6, 7, 8, 9)\n"
     ]
    },
    {
     "ename": "AttributeError",
     "evalue": "type object 'tuple' has no attribute 'remove'",
     "output_type": "error",
     "traceback": [
      "\u001b[0;31m---------------------------------------------------------------------------\u001b[0m",
      "\u001b[0;31mAttributeError\u001b[0m                            Traceback (most recent call last)",
      "Cell \u001b[0;32mIn[40], line 23\u001b[0m\n\u001b[1;32m     20\u001b[0m \u001b[38;5;28mprint\u001b[39m(list1\u001b[38;5;241m+\u001b[39mlist2)      \u001b[38;5;66;03m#supports + operator to combine elements\u001b[39;00m\n\u001b[1;32m     21\u001b[0m \u001b[38;5;28mprint\u001b[39m(t1\u001b[38;5;241m+\u001b[39mt2)            \u001b[38;5;66;03m#tuples also supports + operator to combine elements\u001b[39;00m\n\u001b[0;32m---> 23\u001b[0m \u001b[38;5;28;43mtuple\u001b[39;49m\u001b[38;5;241;43m.\u001b[39;49m\u001b[43mremove\u001b[49m(\u001b[38;5;241m4\u001b[39m)\n\u001b[1;32m     24\u001b[0m tuple1\u001b[38;5;241m.\u001b[39mpop()           \u001b[38;5;66;03m#tuples doesn't support pop property\u001b[39;00m\n\u001b[1;32m     25\u001b[0m t1\u001b[38;5;241m.\u001b[39mextend(t2)          \u001b[38;5;66;03m#tuples doesn't support extend property\u001b[39;00m\n",
      "\u001b[0;31mAttributeError\u001b[0m: type object 'tuple' has no attribute 'remove'"
     ]
    }
   ],
   "source": [
    "# examples of list & tuples with few operations : \n",
    "list1=[1,2,3,4,5,6]\n",
    "list2=[7,8,9]\n",
    "t1=(1,2,3,4,5,6)\n",
    "t2=(7,8,9)\n",
    "\n",
    "print(type(list1))\n",
    "print(type(t1))\n",
    "print(list1[2])        #printing indexing position element\n",
    "print(t1[1])           #printing indexing position element\n",
    "print(list1[2:6:2])    # extracting list elements\n",
    "print(t1[2:6:2])       #extracting tuple elements\n",
    "list1.extend(list2)    #extending list1\n",
    "print(list1)\n",
    "list1.pop()              # list supports pop to remove last element\n",
    "print(list1)          \n",
    "list1.remove(8)        #removing element\n",
    "print(list1)          \n",
    "\n",
    "print(list1+list2)      #supports + operator to combine elements\n",
    "print(t1+t2)            #tuples also supports + operator to combine elements\n",
    "\n",
    "tuple.remove(4)        #tuples doesn't supports remove property\n",
    "tuple1.pop()           #tuples doesn't support pop property\n",
    "t1.extend(t2)          #tuples doesn't support extend property\n",
    "\n"
   ]
  },
  {
   "cell_type": "code",
   "execution_count": null,
   "id": "691333b6-cf99-4633-877f-d26c3f4d7a49",
   "metadata": {},
   "outputs": [],
   "source": [
    "\n",
    "\n",
    "\n",
    "\n"
   ]
  },
  {
   "cell_type": "raw",
   "id": "1f541406-f142-4dbd-aa11-4492487a1d3b",
   "metadata": {},
   "source": [
    "# Q5  Describe the key features of sets & provide examples of their use.\n",
    "\n",
    "'''\n",
    "Answer :\n",
    "\n",
    "Sets are unordered collection of elements.i.e. indexing concept is not applicable for Sets.\n",
    "Sets contains only unique elements. i.e. Even if you provide duplicate elements while defining a set, it will take only unique elements.\n",
    "Set is mutable but we cannot change element in the set the way we were doing it in lists. However, we can add or delete elements from the set.\n",
    "Set can have multiple datatype elements in it. So it is heterogenous type.\n",
    "Sets are written in \" {    } \" curly brackets\n",
    "Sets can contain immutable data structure in it i.e. tuple can be an element of a set. But list & set cannot be a element of a set.\n",
    "\n",
    "Set Operations :\n",
    "1) Union : | is used to get union of two sets\n",
    "2) Intersection : & is used to get intersection of two sets\n",
    "3) Subtraction : Subtraction is used to get the elements present in set A which is not present in set B for operation A-B.\n",
    "4) Symmetric Difference : ^ is used to get the symmetric difference between the two sets. i.e. elements which are not present in the intersection of two sets.\n",
    "Example of the above set scenarios are as follows :\n",
    "\n",
    "'''"
   ]
  },
  {
   "cell_type": "code",
   "execution_count": 60,
   "id": "08310ebd-5550-48f0-b0b8-b4c774678dbf",
   "metadata": {},
   "outputs": [
    {
     "name": "stdout",
     "output_type": "stream",
     "text": [
      "<class 'set'>\n",
      "{1, 2.2, 'XYZ', 'ABC', (3+4j)}\n",
      "[1, 2.2, 'XYZ', 'ABC', (3+4j)]\n",
      "{1, 2, 3, 4}\n",
      "{1, 2, (3, 4, 5)}\n",
      "{1, 2, 3, 4}\n",
      "{1, 2, 3, 100, 4}\n",
      "{1, 2, 3, 4}\n",
      "1\n",
      "{2, 3, 4}\n",
      "None\n",
      "{1, 2.2, 'XYZ', 'ABC', (3+4j)}\n",
      "{2, 3, 4}\n",
      "{1, 2.2, 2, 3, 4, 'XYZ', 'ABC', (3+4j)}\n",
      "set()\n",
      "{1, 2.2, 'XYZ', 'ABC', (3+4j)}\n",
      "{1, 2, 3, 4, 2.2, 'XYZ', 'ABC', (3+4j)}\n"
     ]
    }
   ],
   "source": [
    "# Examples of set with few operations\n",
    "\n",
    "S={1,2.2,3+4j,\"ABC\",\"XYZ\",True,1,1,1,1,1}\n",
    "print(type(S))   # Set contains only unique elements\n",
    "print(S)         # To show sets are unordered any elements can take any position. It might be different from defining position\n",
    "print(list(S))      #Sets can be converted into list\n",
    "\n",
    "L=[1,2,3,4]\n",
    "S2=set(L)      #  COnverting a list into sets\n",
    "print(S2)\n",
    "S3= {1,2,(3,4,5)}   #list can have only immutable data structure in it\n",
    "print(S3)\n",
    "\n",
    "print(S2)\n",
    "S2.add(100)   #addition of an element\n",
    "print(S2)\n",
    "\n",
    "S2.remove(100)     #note : remove will give error if value is not present in set.\n",
    "print(S2)\n",
    "\n",
    "print(S2.pop())  #not compulsary it'll remove the last one\n",
    "print(S2)\n",
    "\n",
    "print(S2.discard(100))     #discard will not give an error even if the value is not present in the set\n",
    "\n",
    "print(S)\n",
    "print(S2)\n",
    "\n",
    "print(S|S2)    #union of two sets\n",
    "print(S&S2)   #intersection of two sets. Here intersection is none\n",
    "print(S-S2)    #subtraction of two sets\n",
    "print(S^S2)    #symmetric difference of two sets"
   ]
  },
  {
   "cell_type": "code",
   "execution_count": null,
   "id": "4e5f1c1a-0edd-4d73-982d-cc928d3d20e6",
   "metadata": {},
   "outputs": [],
   "source": [
    "\n",
    "\n",
    "\n",
    "\n"
   ]
  },
  {
   "cell_type": "raw",
   "id": "d49a8a2a-1cfd-4b6e-965e-c4366fa55466",
   "metadata": {},
   "source": [
    "#Q6 : Discuss the use cases of tuples & lists in Python.\n",
    "\n",
    "#Answer :\n",
    "\n",
    "Use Cases of lists :\n",
    "A list can be used to create a data collection when you don't know the exact length of the collection as it is mutable & we can add elements \n",
    "to our collection.\n",
    "A real life use case is storing the names of the books present in a library, creating a songs library, etc.\n",
    "As it can be modified it can also use to remove the existing element from the list. Furthermore, List can also be used for stack & Queue purpose where stack follows the principal of LIFO(Last In, First Out)  & Queue follows the principal of FIFO(First In First Out)\n",
    "\n",
    "Use cases of tuples :\n",
    "A tuple can be used to create a ordered type data collection in which the user knows that once the collection is created there will be no change in future. Tuples are immutable. i.e. it can't be modified using index positions.\n",
    "A real life example of tuple can be employee details collection. e.g. (Name,Age,Employee ID,Mail Id)\n",
    "\n",
    "All the operation regarding lists & tuples are already explained in the above questions.\n",
    "\n"
   ]
  },
  {
   "cell_type": "code",
   "execution_count": null,
   "id": "46375b5e-1929-4d6c-a68e-31b7669cf432",
   "metadata": {},
   "outputs": [],
   "source": [
    "\n",
    "\n",
    "\n",
    "\n"
   ]
  },
  {
   "cell_type": "raw",
   "id": "5d13c260-24df-46f3-a167-3dd39908eeb0",
   "metadata": {},
   "source": [
    "#Q7  :  Describe how to add, modify, and delete items in a dictionary with examples.\n",
    "\n",
    "\n",
    "#Answer :\n",
    "Dictionary is the data structure that stores the data as key value pair written in \"{   }\" curly brackets.\n",
    "To add a new key  value pair in the existing dictionar use dict[\"new_Key\"]=New_Value   where dict is the existing dictionary.\n",
    "To modify the existing value of a particular key in dictionary use d['Key']=New_Value\n",
    "To delete any key value pair from the dictionary use dict.pop('Key')\n",
    "\n",
    "Example of the above scenarios is as follows :\n"
   ]
  },
  {
   "cell_type": "code",
   "execution_count": 6,
   "id": "f08e790a-092c-48ad-bffd-1596be0ee5c4",
   "metadata": {},
   "outputs": [
    {
     "name": "stdout",
     "output_type": "stream",
     "text": [
      "<class 'dict'>\n",
      "{'Name': 'ABC', 'age': 27, 'mail': 'xyz@gmail.com', 'contact': 1234567}\n",
      "{'Name': 'ABC', 'age': 27, 'mail': 'xyz@gmail.com', 'contact': 87654321}\n",
      "{'Name': 'ABC', 'age': 27, 'mail': 'xyz@gmail.com'}\n"
     ]
    }
   ],
   "source": [
    "#Examples of set\n",
    "\n",
    "d={\"Name\":\"ABC\", \"age\":27, \"mail\":\"xyz@gmail.com\"}\n",
    "print(type(d))    #to check type of d\n",
    "d[\"contact\"]=1234567       #To add a new key value pair\n",
    "print(d)\n",
    "d[\"contact\"]=87654321      #To modify existing element\n",
    "print(d)\n",
    "d.pop(\"contact\")\n",
    "print(d)                   #To remove the element"
   ]
  },
  {
   "cell_type": "code",
   "execution_count": null,
   "id": "cc1ca995-c9c6-4b52-8def-7a1325528887",
   "metadata": {},
   "outputs": [],
   "source": [
    "\n",
    "\n",
    "\n",
    "\n"
   ]
  },
  {
   "cell_type": "raw",
   "id": "7fc6d205-866b-4f15-968d-eaa0c47a0138",
   "metadata": {},
   "source": [
    "#Q8  Discuss the importance of dictionary keys being immutable and provide examples\n",
    "\n",
    "#Answer :\n",
    "The hash table implementation of dictionaries uses a hash value calculated from the key value to find the key. If the key were a mutable object, its value could change, and thus its hash could also change. But since whoever changes the key object can’t tell that it was being used as a dictionary key, it can’t move the entry around in the dictionary. Then, when you try to look up the same object in the dictionary it won’t be found because its hash value is different. If you tried to look up the old value it wouldn’t be found either, because the value of the object found in that hash bin would be different. Hence, it is important to have immutabble keys in dictionaries.\n",
    "\n",
    "Examples of dictionaries:\n"
   ]
  },
  {
   "cell_type": "code",
   "execution_count": 15,
   "id": "6493294e-84c4-4725-85ed-f17501f8dfb0",
   "metadata": {},
   "outputs": [
    {
     "name": "stdout",
     "output_type": "stream",
     "text": [
      "dict_keys(['Name', (1, 2), 23])\n",
      "dict_values(['Ganesh', 'Value', 'Age'])\n"
     ]
    },
    {
     "ename": "TypeError",
     "evalue": "unhashable type: 'list'",
     "output_type": "error",
     "traceback": [
      "\u001b[0;31m---------------------------------------------------------------------------\u001b[0m",
      "\u001b[0;31mTypeError\u001b[0m                                 Traceback (most recent call last)",
      "Cell \u001b[0;32mIn[15], line 8\u001b[0m\n\u001b[1;32m      3\u001b[0m \u001b[38;5;28mprint\u001b[39m(S\u001b[38;5;241m.\u001b[39mvalues())            \u001b[38;5;66;03m#To get all the values\u001b[39;00m\n\u001b[1;32m      5\u001b[0m \u001b[38;5;66;03m#Ideally the bestpractice should be only strings & Numbers should be kept as keys\u001b[39;00m\n\u001b[1;32m      6\u001b[0m \n\u001b[1;32m      7\u001b[0m \u001b[38;5;66;03m#If we define sets with mutable element as key it will give us an error :\u001b[39;00m\n\u001b[0;32m----> 8\u001b[0m S\u001b[38;5;241m=\u001b[39m{[\u001b[38;5;241m1\u001b[39m,\u001b[38;5;241m2\u001b[39m,\u001b[38;5;241m3\u001b[39m]:\u001b[38;5;124m\"\u001b[39m\u001b[38;5;124mABC\u001b[39m\u001b[38;5;124m\"\u001b[39m}\n",
      "\u001b[0;31mTypeError\u001b[0m: unhashable type: 'list'"
     ]
    }
   ],
   "source": [
    "S={\"Name\":\"Ganesh\",(1,2):\"Value\",23:\"Age\"}\n",
    "print(S.keys())              #To get the keys\n",
    "print(S.values())            #To get all the values\n",
    "\n",
    "#Ideally the bestpractice should be only strings & Numbers should be kept as keys\n",
    "\n",
    "#If we define sets with mutable element as key it will give us an error :\n",
    "S={[1,2,3]:\"ABC\"}            #unhashable error"
   ]
  },
  {
   "cell_type": "code",
   "execution_count": null,
   "id": "176ee95a-194d-4355-8588-49fdb4ed9bb2",
   "metadata": {},
   "outputs": [],
   "source": []
  }
 ],
 "metadata": {
  "kernelspec": {
   "display_name": "Python 3 (ipykernel)",
   "language": "python",
   "name": "python3"
  },
  "language_info": {
   "codemirror_mode": {
    "name": "ipython",
    "version": 3
   },
   "file_extension": ".py",
   "mimetype": "text/x-python",
   "name": "python",
   "nbconvert_exporter": "python",
   "pygments_lexer": "ipython3",
   "version": "3.10.8"
  }
 },
 "nbformat": 4,
 "nbformat_minor": 5
}
